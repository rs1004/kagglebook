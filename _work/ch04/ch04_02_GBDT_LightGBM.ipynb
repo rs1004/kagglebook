{
 "cells": [
  {
   "cell_type": "code",
   "execution_count": 1,
   "metadata": {},
   "outputs": [],
   "source": [
    "import numpy as np\n",
    "import pandas as pd"
   ]
  },
  {
   "cell_type": "markdown",
   "metadata": {},
   "source": [
    "### データ準備"
   ]
  },
  {
   "cell_type": "code",
   "execution_count": 2,
   "metadata": {},
   "outputs": [],
   "source": [
    "train = pd.read_csv('../../input/sample-data/train_preprocessed.csv')\n",
    "train_x = train.drop(['target'], axis=1)\n",
    "train_y = train['target']\n",
    "test_x = pd.read_csv('../../input/sample-data/test_preprocessed.csv')\n",
    "\n",
    "# 学習データを学習データとバリデーションデータに分ける\n",
    "from sklearn.model_selection import KFold\n",
    "\n",
    "kf = KFold(n_splits=4, shuffle=True, random_state=0)\n",
    "tr_idx, va_idx = list(kf.split(train_x))[0]\n",
    "tr_x, va_x = train_x.iloc[tr_idx], train_x.iloc[va_idx]\n",
    "tr_y, va_y = train_y.iloc[tr_idx], train_y.iloc[va_idx]"
   ]
  },
  {
   "cell_type": "markdown",
   "metadata": {},
   "source": [
    "## 学習・評価"
   ]
  },
  {
   "cell_type": "code",
   "execution_count": 3,
   "metadata": {},
   "outputs": [],
   "source": [
    "import lightgbm as lgb\n",
    "from sklearn.metrics import log_loss"
   ]
  },
  {
   "cell_type": "code",
   "execution_count": 4,
   "metadata": {},
   "outputs": [],
   "source": [
    "# 特徴量と目的変数をlightgbmのデータ構造に変換する\n",
    "dtrain = lgb.Dataset(tr_x, label=tr_y)\n",
    "dvalid = lgb.Dataset(va_x, label=va_y)\n",
    "dtest = lgb.Dataset(test_x)"
   ]
  },
  {
   "cell_type": "code",
   "execution_count": 5,
   "metadata": {},
   "outputs": [],
   "source": [
    "# ハイパーパラメータの設定\n",
    "params = {'objective': 'binary', 'verbose': 0, 'seed': 0, 'metrics': 'binary_logloss'}\n",
    "num_round = 500"
   ]
  },
  {
   "cell_type": "markdown",
   "metadata": {},
   "source": [
    "param は xgboost と若干異なる\n",
    "\n",
    "|xgboost|lightgbm|\n",
    "|-|-|\n",
    "|objective|objective|\n",
    "|silent|verbose|\n",
    "|random_state|seed|\n",
    "|eval_metric|metrics|"
   ]
  },
  {
   "cell_type": "code",
   "execution_count": 6,
   "metadata": {},
   "outputs": [
    {
     "name": "stderr",
     "output_type": "stream",
     "text": [
      "/home/sato/anaconda3/lib/python3.7/site-packages/lightgbm/basic.py:1190: UserWarning: categorical_feature in Dataset is overridden.\n",
      "New categorical_feature is ['medical_info_b2', 'medical_info_b3', 'product']\n",
      "  'New categorical_feature is {}'.format(sorted(list(categorical_feature))))\n",
      "/home/sato/anaconda3/lib/python3.7/site-packages/lightgbm/basic.py:752: UserWarning: categorical_feature in param dict is overridden.\n",
      "  warnings.warn('categorical_feature in param dict is overridden.')\n"
     ]
    },
    {
     "name": "stdout",
     "output_type": "stream",
     "text": [
      "[1]\ttrain's binary_logloss: 0.453692\tvalid's binary_logloss: 0.464874\n",
      "Training until validation scores don't improve for 20 rounds.\n",
      "[2]\ttrain's binary_logloss: 0.429171\tvalid's binary_logloss: 0.442905\n",
      "[3]\ttrain's binary_logloss: 0.40972\tvalid's binary_logloss: 0.426457\n",
      "[4]\ttrain's binary_logloss: 0.392776\tvalid's binary_logloss: 0.412597\n",
      "[5]\ttrain's binary_logloss: 0.378315\tvalid's binary_logloss: 0.401005\n",
      "[6]\ttrain's binary_logloss: 0.365479\tvalid's binary_logloss: 0.389646\n",
      "[7]\ttrain's binary_logloss: 0.353488\tvalid's binary_logloss: 0.38001\n",
      "[8]\ttrain's binary_logloss: 0.34252\tvalid's binary_logloss: 0.370739\n",
      "[9]\ttrain's binary_logloss: 0.333025\tvalid's binary_logloss: 0.363143\n",
      "[10]\ttrain's binary_logloss: 0.324363\tvalid's binary_logloss: 0.355685\n",
      "[11]\ttrain's binary_logloss: 0.315949\tvalid's binary_logloss: 0.348907\n",
      "[12]\ttrain's binary_logloss: 0.308797\tvalid's binary_logloss: 0.342465\n",
      "[13]\ttrain's binary_logloss: 0.301935\tvalid's binary_logloss: 0.336544\n",
      "[14]\ttrain's binary_logloss: 0.295175\tvalid's binary_logloss: 0.330572\n",
      "[15]\ttrain's binary_logloss: 0.289269\tvalid's binary_logloss: 0.326249\n",
      "[16]\ttrain's binary_logloss: 0.283466\tvalid's binary_logloss: 0.321338\n",
      "[17]\ttrain's binary_logloss: 0.277816\tvalid's binary_logloss: 0.31742\n",
      "[18]\ttrain's binary_logloss: 0.273143\tvalid's binary_logloss: 0.313944\n",
      "[19]\ttrain's binary_logloss: 0.26796\tvalid's binary_logloss: 0.310475\n",
      "[20]\ttrain's binary_logloss: 0.26254\tvalid's binary_logloss: 0.306232\n",
      "[21]\ttrain's binary_logloss: 0.25712\tvalid's binary_logloss: 0.301369\n",
      "[22]\ttrain's binary_logloss: 0.252546\tvalid's binary_logloss: 0.297901\n",
      "[23]\ttrain's binary_logloss: 0.247871\tvalid's binary_logloss: 0.29479\n",
      "[24]\ttrain's binary_logloss: 0.244126\tvalid's binary_logloss: 0.292656\n",
      "[25]\ttrain's binary_logloss: 0.240161\tvalid's binary_logloss: 0.290136\n",
      "[26]\ttrain's binary_logloss: 0.236546\tvalid's binary_logloss: 0.28737\n",
      "[27]\ttrain's binary_logloss: 0.233005\tvalid's binary_logloss: 0.285087\n",
      "[28]\ttrain's binary_logloss: 0.228832\tvalid's binary_logloss: 0.282065\n",
      "[29]\ttrain's binary_logloss: 0.225381\tvalid's binary_logloss: 0.279667\n",
      "[30]\ttrain's binary_logloss: 0.22205\tvalid's binary_logloss: 0.278115\n",
      "[31]\ttrain's binary_logloss: 0.218512\tvalid's binary_logloss: 0.276222\n",
      "[32]\ttrain's binary_logloss: 0.214427\tvalid's binary_logloss: 0.272545\n",
      "[33]\ttrain's binary_logloss: 0.211382\tvalid's binary_logloss: 0.270696\n",
      "[34]\ttrain's binary_logloss: 0.20865\tvalid's binary_logloss: 0.269605\n",
      "[35]\ttrain's binary_logloss: 0.205793\tvalid's binary_logloss: 0.267838\n",
      "[36]\ttrain's binary_logloss: 0.202516\tvalid's binary_logloss: 0.266379\n",
      "[37]\ttrain's binary_logloss: 0.19998\tvalid's binary_logloss: 0.2656\n",
      "[38]\ttrain's binary_logloss: 0.197434\tvalid's binary_logloss: 0.264429\n",
      "[39]\ttrain's binary_logloss: 0.194662\tvalid's binary_logloss: 0.263347\n",
      "[40]\ttrain's binary_logloss: 0.192157\tvalid's binary_logloss: 0.262352\n",
      "[41]\ttrain's binary_logloss: 0.189678\tvalid's binary_logloss: 0.260778\n",
      "[42]\ttrain's binary_logloss: 0.187321\tvalid's binary_logloss: 0.259073\n",
      "[43]\ttrain's binary_logloss: 0.184124\tvalid's binary_logloss: 0.257153\n",
      "[44]\ttrain's binary_logloss: 0.182031\tvalid's binary_logloss: 0.2565\n",
      "[45]\ttrain's binary_logloss: 0.179991\tvalid's binary_logloss: 0.255381\n",
      "[46]\ttrain's binary_logloss: 0.177547\tvalid's binary_logloss: 0.253922\n",
      "[47]\ttrain's binary_logloss: 0.175025\tvalid's binary_logloss: 0.252766\n",
      "[48]\ttrain's binary_logloss: 0.172854\tvalid's binary_logloss: 0.251756\n",
      "[49]\ttrain's binary_logloss: 0.170143\tvalid's binary_logloss: 0.249523\n",
      "[50]\ttrain's binary_logloss: 0.167825\tvalid's binary_logloss: 0.248304\n",
      "[51]\ttrain's binary_logloss: 0.165853\tvalid's binary_logloss: 0.247725\n",
      "[52]\ttrain's binary_logloss: 0.163822\tvalid's binary_logloss: 0.246851\n",
      "[53]\ttrain's binary_logloss: 0.161818\tvalid's binary_logloss: 0.24637\n",
      "[54]\ttrain's binary_logloss: 0.159954\tvalid's binary_logloss: 0.245498\n",
      "[55]\ttrain's binary_logloss: 0.156797\tvalid's binary_logloss: 0.241721\n",
      "[56]\ttrain's binary_logloss: 0.154536\tvalid's binary_logloss: 0.240292\n",
      "[57]\ttrain's binary_logloss: 0.152763\tvalid's binary_logloss: 0.239182\n",
      "[58]\ttrain's binary_logloss: 0.150999\tvalid's binary_logloss: 0.238694\n",
      "[59]\ttrain's binary_logloss: 0.14873\tvalid's binary_logloss: 0.236857\n",
      "[60]\ttrain's binary_logloss: 0.146996\tvalid's binary_logloss: 0.236597\n",
      "[61]\ttrain's binary_logloss: 0.145482\tvalid's binary_logloss: 0.236261\n",
      "[62]\ttrain's binary_logloss: 0.143727\tvalid's binary_logloss: 0.234957\n",
      "[63]\ttrain's binary_logloss: 0.142179\tvalid's binary_logloss: 0.23453\n",
      "[64]\ttrain's binary_logloss: 0.140557\tvalid's binary_logloss: 0.234079\n",
      "[65]\ttrain's binary_logloss: 0.139125\tvalid's binary_logloss: 0.233601\n",
      "[66]\ttrain's binary_logloss: 0.137763\tvalid's binary_logloss: 0.233776\n",
      "[67]\ttrain's binary_logloss: 0.135688\tvalid's binary_logloss: 0.232548\n",
      "[68]\ttrain's binary_logloss: 0.134041\tvalid's binary_logloss: 0.232065\n",
      "[69]\ttrain's binary_logloss: 0.132657\tvalid's binary_logloss: 0.23169\n",
      "[70]\ttrain's binary_logloss: 0.131268\tvalid's binary_logloss: 0.23144\n",
      "[71]\ttrain's binary_logloss: 0.12966\tvalid's binary_logloss: 0.23118\n",
      "[72]\ttrain's binary_logloss: 0.128126\tvalid's binary_logloss: 0.230615\n",
      "[73]\ttrain's binary_logloss: 0.126796\tvalid's binary_logloss: 0.230378\n",
      "[74]\ttrain's binary_logloss: 0.125553\tvalid's binary_logloss: 0.229921\n",
      "[75]\ttrain's binary_logloss: 0.124214\tvalid's binary_logloss: 0.229461\n",
      "[76]\ttrain's binary_logloss: 0.122834\tvalid's binary_logloss: 0.228113\n",
      "[77]\ttrain's binary_logloss: 0.12163\tvalid's binary_logloss: 0.228299\n",
      "[78]\ttrain's binary_logloss: 0.120321\tvalid's binary_logloss: 0.227872\n",
      "[79]\ttrain's binary_logloss: 0.119165\tvalid's binary_logloss: 0.227486\n",
      "[80]\ttrain's binary_logloss: 0.117886\tvalid's binary_logloss: 0.226954\n",
      "[81]\ttrain's binary_logloss: 0.116628\tvalid's binary_logloss: 0.226556\n",
      "[82]\ttrain's binary_logloss: 0.115479\tvalid's binary_logloss: 0.22612\n",
      "[83]\ttrain's binary_logloss: 0.113684\tvalid's binary_logloss: 0.225015\n",
      "[84]\ttrain's binary_logloss: 0.112527\tvalid's binary_logloss: 0.224594\n",
      "[85]\ttrain's binary_logloss: 0.111528\tvalid's binary_logloss: 0.224446\n",
      "[86]\ttrain's binary_logloss: 0.110501\tvalid's binary_logloss: 0.224235\n",
      "[87]\ttrain's binary_logloss: 0.109514\tvalid's binary_logloss: 0.223667\n",
      "[88]\ttrain's binary_logloss: 0.108442\tvalid's binary_logloss: 0.22371\n",
      "[89]\ttrain's binary_logloss: 0.10719\tvalid's binary_logloss: 0.222453\n",
      "[90]\ttrain's binary_logloss: 0.106306\tvalid's binary_logloss: 0.222278\n",
      "[91]\ttrain's binary_logloss: 0.104981\tvalid's binary_logloss: 0.221023\n",
      "[92]\ttrain's binary_logloss: 0.103824\tvalid's binary_logloss: 0.221215\n",
      "[93]\ttrain's binary_logloss: 0.102722\tvalid's binary_logloss: 0.221343\n",
      "[94]\ttrain's binary_logloss: 0.101601\tvalid's binary_logloss: 0.220759\n",
      "[95]\ttrain's binary_logloss: 0.100644\tvalid's binary_logloss: 0.22119\n",
      "[96]\ttrain's binary_logloss: 0.0996509\tvalid's binary_logloss: 0.221241\n",
      "[97]\ttrain's binary_logloss: 0.098617\tvalid's binary_logloss: 0.220869\n",
      "[98]\ttrain's binary_logloss: 0.097595\tvalid's binary_logloss: 0.220636\n",
      "[99]\ttrain's binary_logloss: 0.0962852\tvalid's binary_logloss: 0.21954\n",
      "[100]\ttrain's binary_logloss: 0.0954871\tvalid's binary_logloss: 0.219513\n",
      "[101]\ttrain's binary_logloss: 0.0945647\tvalid's binary_logloss: 0.219303\n",
      "[102]\ttrain's binary_logloss: 0.0935728\tvalid's binary_logloss: 0.219316\n",
      "[103]\ttrain's binary_logloss: 0.0926987\tvalid's binary_logloss: 0.218883\n",
      "[104]\ttrain's binary_logloss: 0.0916468\tvalid's binary_logloss: 0.218235\n",
      "[105]\ttrain's binary_logloss: 0.0906196\tvalid's binary_logloss: 0.217691\n",
      "[106]\ttrain's binary_logloss: 0.0897841\tvalid's binary_logloss: 0.217678\n",
      "[107]\ttrain's binary_logloss: 0.0889909\tvalid's binary_logloss: 0.217985\n",
      "[108]\ttrain's binary_logloss: 0.0881052\tvalid's binary_logloss: 0.217838\n",
      "[109]\ttrain's binary_logloss: 0.0873174\tvalid's binary_logloss: 0.217527\n",
      "[110]\ttrain's binary_logloss: 0.0862654\tvalid's binary_logloss: 0.21664\n",
      "[111]\ttrain's binary_logloss: 0.0853894\tvalid's binary_logloss: 0.216574\n",
      "[112]\ttrain's binary_logloss: 0.0844918\tvalid's binary_logloss: 0.215872\n",
      "[113]\ttrain's binary_logloss: 0.0835828\tvalid's binary_logloss: 0.215621\n",
      "[114]\ttrain's binary_logloss: 0.082749\tvalid's binary_logloss: 0.215394\n",
      "[115]\ttrain's binary_logloss: 0.0820693\tvalid's binary_logloss: 0.215525\n",
      "[116]\ttrain's binary_logloss: 0.0811797\tvalid's binary_logloss: 0.214802\n",
      "[117]\ttrain's binary_logloss: 0.0804236\tvalid's binary_logloss: 0.21435\n",
      "[118]\ttrain's binary_logloss: 0.0796934\tvalid's binary_logloss: 0.213979\n",
      "[119]\ttrain's binary_logloss: 0.0789695\tvalid's binary_logloss: 0.213857\n",
      "[120]\ttrain's binary_logloss: 0.0782877\tvalid's binary_logloss: 0.213847\n",
      "[121]\ttrain's binary_logloss: 0.0776255\tvalid's binary_logloss: 0.21381\n",
      "[122]\ttrain's binary_logloss: 0.0767699\tvalid's binary_logloss: 0.213279\n",
      "[123]\ttrain's binary_logloss: 0.0761453\tvalid's binary_logloss: 0.213716\n",
      "[124]\ttrain's binary_logloss: 0.0752407\tvalid's binary_logloss: 0.212799\n",
      "[125]\ttrain's binary_logloss: 0.0745643\tvalid's binary_logloss: 0.212862\n",
      "[126]\ttrain's binary_logloss: 0.0739018\tvalid's binary_logloss: 0.212891\n",
      "[127]\ttrain's binary_logloss: 0.0731415\tvalid's binary_logloss: 0.212256\n",
      "[128]\ttrain's binary_logloss: 0.0725722\tvalid's binary_logloss: 0.212235\n",
      "[129]\ttrain's binary_logloss: 0.0717424\tvalid's binary_logloss: 0.212129\n"
     ]
    },
    {
     "name": "stdout",
     "output_type": "stream",
     "text": [
      "[130]\ttrain's binary_logloss: 0.071083\tvalid's binary_logloss: 0.212148\n",
      "[131]\ttrain's binary_logloss: 0.070418\tvalid's binary_logloss: 0.211763\n",
      "[132]\ttrain's binary_logloss: 0.0698243\tvalid's binary_logloss: 0.212046\n",
      "[133]\ttrain's binary_logloss: 0.0690373\tvalid's binary_logloss: 0.211188\n",
      "[134]\ttrain's binary_logloss: 0.0684494\tvalid's binary_logloss: 0.2113\n",
      "[135]\ttrain's binary_logloss: 0.0678675\tvalid's binary_logloss: 0.21132\n",
      "[136]\ttrain's binary_logloss: 0.06719\tvalid's binary_logloss: 0.210845\n",
      "[137]\ttrain's binary_logloss: 0.0665842\tvalid's binary_logloss: 0.210517\n",
      "[138]\ttrain's binary_logloss: 0.0659919\tvalid's binary_logloss: 0.210353\n",
      "[139]\ttrain's binary_logloss: 0.0653879\tvalid's binary_logloss: 0.210293\n",
      "[140]\ttrain's binary_logloss: 0.064817\tvalid's binary_logloss: 0.210241\n",
      "[141]\ttrain's binary_logloss: 0.0642196\tvalid's binary_logloss: 0.210207\n",
      "[142]\ttrain's binary_logloss: 0.0635851\tvalid's binary_logloss: 0.210012\n",
      "[143]\ttrain's binary_logloss: 0.0631005\tvalid's binary_logloss: 0.210108\n",
      "[144]\ttrain's binary_logloss: 0.0624878\tvalid's binary_logloss: 0.210031\n",
      "[145]\ttrain's binary_logloss: 0.0619593\tvalid's binary_logloss: 0.209922\n",
      "[146]\ttrain's binary_logloss: 0.0614105\tvalid's binary_logloss: 0.209859\n",
      "[147]\ttrain's binary_logloss: 0.0608755\tvalid's binary_logloss: 0.210224\n",
      "[148]\ttrain's binary_logloss: 0.0602384\tvalid's binary_logloss: 0.209957\n",
      "[149]\ttrain's binary_logloss: 0.0597232\tvalid's binary_logloss: 0.210044\n",
      "[150]\ttrain's binary_logloss: 0.059154\tvalid's binary_logloss: 0.210097\n",
      "[151]\ttrain's binary_logloss: 0.0585784\tvalid's binary_logloss: 0.210196\n",
      "[152]\ttrain's binary_logloss: 0.058075\tvalid's binary_logloss: 0.20995\n",
      "[153]\ttrain's binary_logloss: 0.0574613\tvalid's binary_logloss: 0.210191\n",
      "[154]\ttrain's binary_logloss: 0.056965\tvalid's binary_logloss: 0.210102\n",
      "[155]\ttrain's binary_logloss: 0.0564859\tvalid's binary_logloss: 0.210181\n",
      "[156]\ttrain's binary_logloss: 0.0559119\tvalid's binary_logloss: 0.21007\n",
      "[157]\ttrain's binary_logloss: 0.0554646\tvalid's binary_logloss: 0.210047\n",
      "[158]\ttrain's binary_logloss: 0.0549614\tvalid's binary_logloss: 0.210374\n",
      "[159]\ttrain's binary_logloss: 0.0545191\tvalid's binary_logloss: 0.210314\n",
      "[160]\ttrain's binary_logloss: 0.0539488\tvalid's binary_logloss: 0.210618\n",
      "[161]\ttrain's binary_logloss: 0.0534261\tvalid's binary_logloss: 0.210415\n",
      "[162]\ttrain's binary_logloss: 0.0530023\tvalid's binary_logloss: 0.209943\n",
      "[163]\ttrain's binary_logloss: 0.0525391\tvalid's binary_logloss: 0.21016\n",
      "[164]\ttrain's binary_logloss: 0.0520694\tvalid's binary_logloss: 0.210187\n",
      "[165]\ttrain's binary_logloss: 0.0515854\tvalid's binary_logloss: 0.210331\n",
      "[166]\ttrain's binary_logloss: 0.0511348\tvalid's binary_logloss: 0.210271\n",
      "Early stopping, best iteration is:\n",
      "[146]\ttrain's binary_logloss: 0.0614105\tvalid's binary_logloss: 0.209859\n"
     ]
    }
   ],
   "source": [
    "# 学習の実行\n",
    "# バリデーションデータもモデルに渡し、学習の進行とともにスコアがどう変わるかモニタリングする\n",
    "\n",
    "categorical_features = ['product', 'medical_info_b2', 'medical_info_b3']\n",
    "model = lgb.train(params, dtrain, num_boost_round=num_round,\n",
    "                  categorical_feature=categorical_features,\n",
    "                  valid_names=['train', 'valid'], valid_sets=[dtrain, dvalid], early_stopping_rounds=20)"
   ]
  },
  {
   "cell_type": "code",
   "execution_count": 7,
   "metadata": {},
   "outputs": [
    {
     "name": "stdout",
     "output_type": "stream",
     "text": [
      "logloss: 0.2099\n"
     ]
    }
   ],
   "source": [
    "# バリデーションデータでのスコアの確認\n",
    "va_pred = model.predict(va_x, num_iteration=model.best_iteration)\n",
    "score = log_loss(va_y, va_pred)\n",
    "print(f'logloss: {score:.4f}')"
   ]
  },
  {
   "cell_type": "markdown",
   "metadata": {},
   "source": [
    "⇒ xgboostと比べてかなり早い。更にlog_lossも小さい。"
   ]
  },
  {
   "cell_type": "code",
   "execution_count": null,
   "metadata": {},
   "outputs": [],
   "source": []
  }
 ],
 "metadata": {
  "kernelspec": {
   "display_name": "Python 3",
   "language": "python",
   "name": "python3"
  },
  "language_info": {
   "codemirror_mode": {
    "name": "ipython",
    "version": 3
   },
   "file_extension": ".py",
   "mimetype": "text/x-python",
   "name": "python",
   "nbconvert_exporter": "python",
   "pygments_lexer": "ipython3",
   "version": "3.7.3"
  }
 },
 "nbformat": 4,
 "nbformat_minor": 2
}
