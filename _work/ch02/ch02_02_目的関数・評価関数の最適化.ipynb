{
 "cells": [
  {
   "cell_type": "code",
   "execution_count": 1,
   "metadata": {},
   "outputs": [],
   "source": [
    "import numpy as np\n",
    "import pandas as pd"
   ]
  },
  {
   "cell_type": "markdown",
   "metadata": {},
   "source": [
    "### データ読み込み・tr, valに分割"
   ]
  },
  {
   "cell_type": "code",
   "execution_count": 2,
   "metadata": {},
   "outputs": [],
   "source": [
    "from sklearn.model_selection import StratifiedKFold"
   ]
  },
  {
   "cell_type": "code",
   "execution_count": 3,
   "metadata": {},
   "outputs": [],
   "source": [
    "train = pd.read_csv('../../input/sample-data/train_preprocessed.csv')\n",
    "train_x = train.drop(['target'], axis=1)\n",
    "train_y = train['target']"
   ]
  },
  {
   "cell_type": "code",
   "execution_count": 4,
   "metadata": {},
   "outputs": [],
   "source": [
    "skf = StratifiedKFold(n_splits=4, random_state=70, shuffle=True)\n",
    "tr_idx, va_idx = list(skf.split(train_x, train_y))[0]\n",
    "\n",
    "tr_x, va_x = train_x.iloc[tr_idx], train_x.iloc[va_idx]\n",
    "tr_y, va_y = train_y.iloc[tr_idx], train_y.iloc[va_idx]"
   ]
  },
  {
   "cell_type": "markdown",
   "metadata": {},
   "source": [
    "### カスタム関数の定義"
   ]
  },
  {
   "cell_type": "code",
   "execution_count": 5,
   "metadata": {},
   "outputs": [],
   "source": [
    "# カスタム目的関数（この場合はloglossであり、xgboostの'binary:logistic'と等価）\n",
    "def logregobj(preds, dtrain):\n",
    "    labels = dtrain.get_label()  # 真の値のラベルを取得\n",
    "    preds = 1.0 / (1.0 + np.exp(-preds))  # シグモイド関数\n",
    "    grad = preds - labels  # 勾配\n",
    "    hess = preds * (1.0 - preds)  # 二階微分値\n",
    "    return grad, hess\n",
    "\n",
    "\n",
    "# カスタム評価指標（この場合は誤答率）\n",
    "def evalerror(preds, dtrain):\n",
    "    labels = dtrain.get_label()  # 真の値のラベルを取得\n",
    "    return 'custom-error', float(sum(labels != (preds > 0.0))) / len(labels)"
   ]
  },
  {
   "cell_type": "markdown",
   "metadata": {},
   "source": [
    "### 学習"
   ]
  },
  {
   "cell_type": "code",
   "execution_count": 6,
   "metadata": {},
   "outputs": [],
   "source": [
    "import xgboost as xgb"
   ]
  },
  {
   "cell_type": "code",
   "execution_count": 7,
   "metadata": {},
   "outputs": [
    {
     "name": "stdout",
     "output_type": "stream",
     "text": [
      "[0]\ttrain-rmse:0.401744\teval-rmse:0.427589\ttrain-custom-error:0.171089\teval-custom-error:0.192323\n",
      "[1]\ttrain-rmse:0.703123\teval-rmse:0.727822\ttrain-custom-error:0.119483\teval-custom-error:0.142343\n",
      "[2]\ttrain-rmse:0.986453\teval-rmse:1.00778\ttrain-custom-error:0.107081\teval-custom-error:0.135546\n",
      "[3]\ttrain-rmse:1.22792\teval-rmse:1.24148\ttrain-custom-error:0.098413\teval-custom-error:0.127949\n",
      "[4]\ttrain-rmse:1.4361\teval-rmse:1.44641\ttrain-custom-error:0.095479\teval-custom-error:0.130748\n",
      "[5]\ttrain-rmse:1.62305\teval-rmse:1.63238\ttrain-custom-error:0.089745\teval-custom-error:0.132747\n",
      "[6]\ttrain-rmse:1.78985\teval-rmse:1.79458\ttrain-custom-error:0.086545\teval-custom-error:0.131547\n",
      "[7]\ttrain-rmse:1.92664\teval-rmse:1.93197\ttrain-custom-error:0.081878\teval-custom-error:0.127549\n",
      "[8]\ttrain-rmse:2.03661\teval-rmse:2.04071\ttrain-custom-error:0.080144\teval-custom-error:0.12555\n",
      "[9]\ttrain-rmse:2.14658\teval-rmse:2.14911\ttrain-custom-error:0.074277\teval-custom-error:0.12555\n",
      "[10]\ttrain-rmse:2.2638\teval-rmse:2.26637\ttrain-custom-error:0.070809\teval-custom-error:0.12435\n",
      "[11]\ttrain-rmse:2.341\teval-rmse:2.33834\ttrain-custom-error:0.068142\teval-custom-error:0.120352\n",
      "[12]\ttrain-rmse:2.43305\teval-rmse:2.43025\ttrain-custom-error:0.064409\teval-custom-error:0.118752\n",
      "[13]\ttrain-rmse:2.50461\teval-rmse:2.5019\ttrain-custom-error:0.061075\teval-custom-error:0.118353\n",
      "[14]\ttrain-rmse:2.58509\teval-rmse:2.57651\ttrain-custom-error:0.056941\teval-custom-error:0.116353\n",
      "[15]\ttrain-rmse:2.65157\teval-rmse:2.64131\ttrain-custom-error:0.053474\teval-custom-error:0.116353\n",
      "[16]\ttrain-rmse:2.71477\teval-rmse:2.70066\ttrain-custom-error:0.050807\teval-custom-error:0.113555\n",
      "[17]\ttrain-rmse:2.77655\teval-rmse:2.75973\ttrain-custom-error:0.048406\teval-custom-error:0.111955\n",
      "[18]\ttrain-rmse:2.817\teval-rmse:2.79864\ttrain-custom-error:0.046806\teval-custom-error:0.112755\n",
      "[19]\ttrain-rmse:2.8716\teval-rmse:2.8493\ttrain-custom-error:0.046006\teval-custom-error:0.109156\n",
      "[20]\ttrain-rmse:2.91976\teval-rmse:2.89648\ttrain-custom-error:0.042539\teval-custom-error:0.110356\n",
      "[21]\ttrain-rmse:2.97616\teval-rmse:2.95031\ttrain-custom-error:0.039072\teval-custom-error:0.111555\n",
      "[22]\ttrain-rmse:3.03764\teval-rmse:3.00531\ttrain-custom-error:0.037338\teval-custom-error:0.111555\n",
      "[23]\ttrain-rmse:3.09152\teval-rmse:3.05613\ttrain-custom-error:0.035071\teval-custom-error:0.110356\n",
      "[24]\ttrain-rmse:3.12398\teval-rmse:3.08664\ttrain-custom-error:0.032271\teval-custom-error:0.107957\n",
      "[25]\ttrain-rmse:3.16261\teval-rmse:3.12258\ttrain-custom-error:0.031738\teval-custom-error:0.103559\n",
      "[26]\ttrain-rmse:3.20592\teval-rmse:3.16257\ttrain-custom-error:0.029604\teval-custom-error:0.103958\n",
      "[27]\ttrain-rmse:3.26457\teval-rmse:3.21955\ttrain-custom-error:0.02827\teval-custom-error:0.102359\n",
      "[28]\ttrain-rmse:3.29744\teval-rmse:3.25144\ttrain-custom-error:0.027204\teval-custom-error:0.103958\n",
      "[29]\ttrain-rmse:3.32171\teval-rmse:3.27454\ttrain-custom-error:0.026804\teval-custom-error:0.103958\n",
      "[30]\ttrain-rmse:3.38042\teval-rmse:3.32823\ttrain-custom-error:0.024137\teval-custom-error:0.105958\n",
      "[31]\ttrain-rmse:3.42761\teval-rmse:3.3727\ttrain-custom-error:0.022136\teval-custom-error:0.103958\n",
      "[32]\ttrain-rmse:3.46844\teval-rmse:3.41222\ttrain-custom-error:0.021069\teval-custom-error:0.105558\n",
      "[33]\ttrain-rmse:3.49486\teval-rmse:3.43441\ttrain-custom-error:0.020003\teval-custom-error:0.103559\n",
      "[34]\ttrain-rmse:3.55081\teval-rmse:3.48769\ttrain-custom-error:0.017869\teval-custom-error:0.10076\n",
      "[35]\ttrain-rmse:3.58853\teval-rmse:3.52703\ttrain-custom-error:0.017202\teval-custom-error:0.103958\n",
      "[36]\ttrain-rmse:3.64222\teval-rmse:3.58122\ttrain-custom-error:0.016536\teval-custom-error:0.104358\n",
      "[37]\ttrain-rmse:3.68281\teval-rmse:3.61501\ttrain-custom-error:0.016002\teval-custom-error:0.103958\n",
      "[38]\ttrain-rmse:3.71477\teval-rmse:3.64628\ttrain-custom-error:0.015335\teval-custom-error:0.103159\n",
      "[39]\ttrain-rmse:3.76271\teval-rmse:3.68631\ttrain-custom-error:0.014269\teval-custom-error:0.09956\n",
      "[40]\ttrain-rmse:3.80017\teval-rmse:3.72274\ttrain-custom-error:0.013202\teval-custom-error:0.10076\n",
      "[41]\ttrain-rmse:3.83803\teval-rmse:3.75818\ttrain-custom-error:0.013068\teval-custom-error:0.097161\n",
      "[42]\ttrain-rmse:3.87309\teval-rmse:3.79229\ttrain-custom-error:0.012002\teval-custom-error:0.097561\n",
      "[43]\ttrain-rmse:3.92243\teval-rmse:3.83841\ttrain-custom-error:0.011468\teval-custom-error:0.10076\n",
      "[44]\ttrain-rmse:3.94792\teval-rmse:3.86224\ttrain-custom-error:0.011735\teval-custom-error:0.10036\n",
      "[45]\ttrain-rmse:3.97921\teval-rmse:3.89235\ttrain-custom-error:0.010935\teval-custom-error:0.10036\n",
      "[46]\ttrain-rmse:4.00732\teval-rmse:3.91805\ttrain-custom-error:0.010935\teval-custom-error:0.101959\n",
      "[47]\ttrain-rmse:4.03754\teval-rmse:3.94774\ttrain-custom-error:0.009468\teval-custom-error:0.102359\n",
      "[48]\ttrain-rmse:4.06551\teval-rmse:3.97343\ttrain-custom-error:0.008668\teval-custom-error:0.101959\n",
      "[49]\ttrain-rmse:4.10748\teval-rmse:4.01027\ttrain-custom-error:0.007734\teval-custom-error:0.09956\n"
     ]
    }
   ],
   "source": [
    "dtrain = xgb.DMatrix(tr_x, label=tr_y)\n",
    "dvalid = xgb.DMatrix(va_x, label=va_y)\n",
    "\n",
    "# ハイパーパラメータの設定\n",
    "params = {'silent': 1, 'random_state': 71}\n",
    "num_round = 50\n",
    "watchlist = [(dtrain, 'train'), (dvalid, 'eval')]\n",
    "\n",
    "# モデルの学習の実行\n",
    "bst = xgb.train(params, dtrain, num_round, watchlist, obj=logregobj, feval=evalerror)"
   ]
  },
  {
   "cell_type": "code",
   "execution_count": null,
   "metadata": {},
   "outputs": [],
   "source": []
  }
 ],
 "metadata": {
  "kernelspec": {
   "display_name": "Python 3",
   "language": "python",
   "name": "python3"
  },
  "language_info": {
   "codemirror_mode": {
    "name": "ipython",
    "version": 3
   },
   "file_extension": ".py",
   "mimetype": "text/x-python",
   "name": "python",
   "nbconvert_exporter": "python",
   "pygments_lexer": "ipython3",
   "version": "3.7.3"
  }
 },
 "nbformat": 4,
 "nbformat_minor": 2
}
