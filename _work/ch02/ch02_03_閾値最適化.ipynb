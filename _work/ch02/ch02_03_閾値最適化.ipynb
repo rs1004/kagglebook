{
 "cells": [
  {
   "cell_type": "code",
   "execution_count": 1,
   "metadata": {},
   "outputs": [],
   "source": [
    "import numpy as np\n",
    "import pandas as pd\n"
   ]
  },
  {
   "cell_type": "markdown",
   "metadata": {},
   "source": [
    "### サンプルデータ作成"
   ]
  },
  {
   "cell_type": "code",
   "execution_count": 2,
   "metadata": {},
   "outputs": [],
   "source": [
    "# サンプルデータ生成の準備\n",
    "rand = np.random.RandomState(seed=71)\n",
    "train_y_prob = np.linspace(0, 1.0, 10000)\n",
    "\n",
    "# 真の値と予測値が以下のtrain_y, train_pred_probであったとする\n",
    "train_y = pd.Series(rand.uniform(0.0, 1.0, train_y_prob.size) < train_y_prob)\n",
    "train_pred_prob = np.clip(train_y_prob * np.exp(rand.standard_normal(train_y_prob.shape) * 0.3), 0.0, 1.0)"
   ]
  },
  {
   "cell_type": "code",
   "execution_count": 3,
   "metadata": {},
   "outputs": [
    {
     "data": {
      "text/plain": [
       "(10000, 10000)"
      ]
     },
     "execution_count": 3,
     "metadata": {},
     "output_type": "execute_result"
    }
   ],
   "source": [
    "len(train_y), len(train_y_prob)"
   ]
  },
  {
   "cell_type": "markdown",
   "metadata": {},
   "source": [
    "### 閾値の確認"
   ]
  },
  {
   "cell_type": "code",
   "execution_count": 4,
   "metadata": {},
   "outputs": [],
   "source": [
    "from sklearn.metrics import f1_score"
   ]
  },
  {
   "cell_type": "code",
   "execution_count": 5,
   "metadata": {},
   "outputs": [
    {
     "name": "stdout",
     "output_type": "stream",
     "text": [
      "th: 0.10 => score: 0.7048616090635307\n",
      "th: 0.15 => score: 0.7209527353926313\n",
      "th: 0.20 => score: 0.7350096711798839\n",
      "th: 0.25 => score: 0.7449333871618893\n",
      "th: 0.30 => score: 0.7535669058674547\n",
      "th: 0.35 => score: 0.7553557259984133\n",
      "th: 0.40 => score: 0.7523291209298035\n",
      "th: 0.45 => score: 0.7410358565737052\n",
      "th: 0.50 => score: 0.7224831529507862\n",
      "th: 0.55 => score: 0.6983546617915904\n",
      "th: 0.60 => score: 0.6699931957359946\n",
      "th: 0.65 => score: 0.6357552581261952\n",
      "th: 0.70 => score: 0.596690665656183\n",
      "th: 0.75 => score: 0.5498867723458106\n",
      "th: 0.80 => score: 0.5026543727298128\n",
      "th: 0.85 => score: 0.44897959183673475\n",
      "th: 0.90 => score: 0.3956956187548039\n",
      "th: 0.95 => score: 0.3467007509186771\n",
      "th: 1.00 => score: 0.29940318302387264\n"
     ]
    }
   ],
   "source": [
    "for threshold in np.linspace(0.1, 1.0, 19):\n",
    "    score = f1_score(train_y, train_pred_prob >= threshold)\n",
    "    print(f'th: {threshold:.2f} => score: {score}')"
   ]
  },
  {
   "cell_type": "markdown",
   "metadata": {},
   "source": [
    "### 最適な閾値を求める"
   ]
  },
  {
   "cell_type": "code",
   "execution_count": 6,
   "metadata": {},
   "outputs": [],
   "source": [
    "from scipy.optimize import minimize"
   ]
  },
  {
   "cell_type": "code",
   "execution_count": 7,
   "metadata": {},
   "outputs": [],
   "source": [
    "# 閾値の最適化関数（最小化するため、返り値を負にしている）\n",
    "def f1_opt(x):\n",
    "    return -f1_score(train_y, train_pred_prob >= x)"
   ]
  },
  {
   "cell_type": "code",
   "execution_count": 8,
   "metadata": {},
   "outputs": [
    {
     "name": "stdout",
     "output_type": "stream",
     "text": [
      "th: 0.32 => score: 0.7557317703844165\n"
     ]
    }
   ],
   "source": [
    "init_threshold = 0.5\n",
    "\n",
    "result = minimize(f1_opt, x0=np.array([init_threshold]), method='Nelder-Mead')\n",
    "best_threshold = result['x'].item()\n",
    "\n",
    "score = f1_score(train_y, train_pred_prob >= best_threshold)\n",
    "print(f'th: {best_threshold:.2f} => score: {score}')"
   ]
  },
  {
   "cell_type": "code",
   "execution_count": null,
   "metadata": {},
   "outputs": [],
   "source": []
  }
 ],
 "metadata": {
  "kernelspec": {
   "display_name": "Python 3",
   "language": "python",
   "name": "python3"
  },
  "language_info": {
   "codemirror_mode": {
    "name": "ipython",
    "version": 3
   },
   "file_extension": ".py",
   "mimetype": "text/x-python",
   "name": "python",
   "nbconvert_exporter": "python",
   "pygments_lexer": "ipython3",
   "version": "3.7.3"
  }
 },
 "nbformat": 4,
 "nbformat_minor": 2
}
