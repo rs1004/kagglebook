{
 "cells": [
  {
   "cell_type": "markdown",
   "metadata": {},
   "source": [
    "## 特徴量選択\n",
    "- 特徴量選択は大きく分けて以下の２通りの方法で選択しているようである。\n",
    "  - 相関係数などの統計量から上位のものを選択\n",
    "  - 変数重要度（ランダムフォレストなど）から上位のものを選択"
   ]
  },
  {
   "cell_type": "code",
   "execution_count": 1,
   "metadata": {},
   "outputs": [],
   "source": [
    "import numpy as np\n",
    "import pandas as pd"
   ]
  },
  {
   "cell_type": "markdown",
   "metadata": {},
   "source": [
    "### データの読み込み"
   ]
  },
  {
   "cell_type": "code",
   "execution_count": 2,
   "metadata": {},
   "outputs": [],
   "source": [
    "train = pd.read_csv('../../input/sample-data/train_preprocessed_onehot.csv')\n",
    "train_x = train.drop(['target'], axis=1)\n",
    "train_y = train['target']"
   ]
  },
  {
   "cell_type": "markdown",
   "metadata": {},
   "source": [
    "## 相関係数\n",
    "- 目的変数との相関係数を計算し、上位5位を表示"
   ]
  },
  {
   "cell_type": "code",
   "execution_count": 3,
   "metadata": {},
   "outputs": [
    {
     "data": {
      "text/plain": [
       "{'medical_info_a1': 0.21805214074801646,\n",
       " 'medical_keyword_5': 0.21368557020355813,\n",
       " 'medical_keyword_4': 0.18109642414513719,\n",
       " 'medical_keyword_3': 0.16723960583428768,\n",
       " 'age': 0.1515530760883347}"
      ]
     },
     "execution_count": 3,
     "metadata": {},
     "output_type": "execute_result"
    }
   ],
   "source": [
    "corrs = []\n",
    "for c in train_x.columns:\n",
    "    corr = np.corrcoef(train_x[c], train_y)[0, 1]\n",
    "    corrs.append(corr)\n",
    "corrs = np.array(corrs)\n",
    "\n",
    "idx = np.argsort(np.abs(corrs))[::-1]\n",
    "top_cols, top_importances = train_x.columns.values[idx][:5], corrs[idx][:5]\n",
    "dict(zip(top_cols, top_importances))"
   ]
  },
  {
   "cell_type": "markdown",
   "metadata": {},
   "source": [
    "## スピアマンの順位相関係数\n",
    "- 元の値の順位の着目し、相関係数を計算（参考程度に）"
   ]
  },
  {
   "cell_type": "code",
   "execution_count": 4,
   "metadata": {},
   "outputs": [],
   "source": [
    "import scipy.stats as st"
   ]
  },
  {
   "cell_type": "code",
   "execution_count": 5,
   "metadata": {},
   "outputs": [
    {
     "data": {
      "text/plain": [
       "{'medical_info_a1': 0.22182331060138086,\n",
       " 'medical_keyword_5': 0.21368557020355833,\n",
       " 'medical_keyword_4': 0.18109642414513724,\n",
       " 'medical_keyword_3': 0.16723960583428796,\n",
       " 'age': 0.15170291108416198}"
      ]
     },
     "execution_count": 5,
     "metadata": {},
     "output_type": "execute_result"
    }
   ],
   "source": [
    "corrs_sp = []\n",
    "for c in train_x.columns:\n",
    "    corr_sp = st.spearmanr(train_x[c], train_y).correlation\n",
    "    corrs_sp.append(corr_sp)\n",
    "corrs_sp = np.array(corrs_sp)\n",
    "\n",
    "idx = np.argsort(np.abs(corrs_sp))[::-1]\n",
    "top_cols, top_importances = train_x.columns.values[idx][:5], corrs_sp[idx][:5]\n",
    "dict(zip(top_cols, top_importances))"
   ]
  },
  {
   "cell_type": "markdown",
   "metadata": {},
   "source": [
    "⇒ （ピアソンの）相関係数と重要度ランキングtop5は変わらないようである。"
   ]
  },
  {
   "cell_type": "markdown",
   "metadata": {},
   "source": [
    "## カイ２乗統計量\n",
    "- 特徴量が非負の値で分類タスクである必要がある。\n",
    "- カイ２乗分布が独立性の検定に使用されることから、これを変数の重要度として利用することもあるようだ。"
   ]
  },
  {
   "cell_type": "code",
   "execution_count": 6,
   "metadata": {},
   "outputs": [],
   "source": [
    "from sklearn.feature_selection import chi2\n",
    "from sklearn.preprocessing import MinMaxScaler"
   ]
  },
  {
   "cell_type": "code",
   "execution_count": 7,
   "metadata": {},
   "outputs": [
    {
     "data": {
      "text/plain": [
       "{'medical_keyword_5': 0.21368557020355813,\n",
       " 'medical_keyword_4': 0.18109642414513719,\n",
       " 'medical_keyword_3': 0.16723960583428768,\n",
       " 'product_9': 0.11706114566211498,\n",
       " 'medical_keyword_2': 0.11846089927105277}"
      ]
     },
     "execution_count": 7,
     "metadata": {},
     "output_type": "execute_result"
    }
   ],
   "source": [
    "x = MinMaxScaler().fit_transform(train_x)\n",
    "c2, _ = chi2(x, train_y)\n",
    "\n",
    "idx = np.argsort(c2)[::-1]\n",
    "top_cols, top_importances = train_x.columns.values[idx][:5], corrs[idx][:5]\n",
    "dict(zip(top_cols, top_importances))"
   ]
  },
  {
   "cell_type": "markdown",
   "metadata": {},
   "source": [
    "⇒ 順位が変わった。"
   ]
  },
  {
   "cell_type": "markdown",
   "metadata": {},
   "source": [
    "## 相互情報量\n",
    "- 変数が従属の場合に１に近づき、独立の場合は０になる統計量である。"
   ]
  },
  {
   "cell_type": "code",
   "execution_count": 8,
   "metadata": {},
   "outputs": [],
   "source": [
    "from sklearn.feature_selection import mutual_info_classif"
   ]
  },
  {
   "cell_type": "code",
   "execution_count": 9,
   "metadata": {},
   "outputs": [
    {
     "data": {
      "text/plain": [
       "{'medical_info_a1': 0.21805214074801646,\n",
       " 'weight': 0.004378080391541526,\n",
       " 'age': 0.1515530760883347,\n",
       " 'medical_keyword_5': 0.21368557020355813,\n",
       " 'medical_keyword_4': 0.18109642414513719}"
      ]
     },
     "execution_count": 9,
     "metadata": {},
     "output_type": "execute_result"
    }
   ],
   "source": [
    "mi = mutual_info_classif(train_x, train_y)\n",
    "\n",
    "idx = np.argsort(mi)[::-1]\n",
    "top_cols, top_importances = train_x.columns.values[idx][:5], corrs[idx][:5]\n",
    "dict(zip(top_cols, top_importances))"
   ]
  },
  {
   "cell_type": "markdown",
   "metadata": {},
   "source": [
    "## Random Forest 特徴量の重要度"
   ]
  },
  {
   "cell_type": "code",
   "execution_count": 10,
   "metadata": {},
   "outputs": [],
   "source": [
    "from sklearn.ensemble import RandomForestClassifier"
   ]
  },
  {
   "cell_type": "code",
   "execution_count": 11,
   "metadata": {},
   "outputs": [
    {
     "data": {
      "text/plain": [
       "{'medical_info_a1': 0.21805214074801646,\n",
       " 'weight': 0.004378080391541526,\n",
       " 'age': 0.1515530760883347,\n",
       " 'medical_info_a2': -0.09160657096027597,\n",
       " 'height': -0.015877737491943444}"
      ]
     },
     "execution_count": 11,
     "metadata": {},
     "output_type": "execute_result"
    }
   ],
   "source": [
    "clf = RandomForestClassifier(n_estimators=10, random_state=71)\n",
    "clf.fit(train_x, train_y)\n",
    "fi = clf.feature_importances_\n",
    "\n",
    "idx = np.argsort(fi)[::-1]\n",
    "top_cols, top_importances = train_x.columns.values[idx][:5], corrs[idx][:5]\n",
    "dict(zip(top_cols, top_importances))"
   ]
  },
  {
   "cell_type": "markdown",
   "metadata": {},
   "source": [
    "## XGBoost 特徴量の重要度\n",
    "- xgboostでは以下の特徴量重要度を出力できる。\n",
    "  - ゲイン\n",
    "    - その特徴量の分岐により得た目的関数の減少\n",
    "  - カバー\n",
    "    - その特徴量の分岐により分岐させられたデータの数\n",
    "  - ウェイト\n",
    "    - その特徴量が分岐に現れた数\n",
    "\n",
    "get_scoreのimportance_type引数に設定する。デフォルトがweightなので、total_gainにする。"
   ]
  },
  {
   "cell_type": "code",
   "execution_count": 12,
   "metadata": {},
   "outputs": [],
   "source": [
    "import xgboost as xgb"
   ]
  },
  {
   "cell_type": "code",
   "execution_count": 13,
   "metadata": {},
   "outputs": [],
   "source": [
    "dtrain = xgb.DMatrix(train_x, label=train_y)\n",
    "params = {'objective': 'binary:logistic', 'silent': 1, 'random_state': 71}\n",
    "num_round = 50\n",
    "model = xgb.train(params, dtrain, num_round)"
   ]
  },
  {
   "cell_type": "code",
   "execution_count": 14,
   "metadata": {},
   "outputs": [
    {
     "name": "stdout",
     "output_type": "stream",
     "text": [
      "xgboost importance\n",
      "[('weight', 2650.4720100040004), ('medical_info_a1', 2217.825263643517), ('height', 1846.56528821), ('age', 1450.881469502299), ('medical_info_a2', 1139.6175488040003)]\n"
     ]
    }
   ],
   "source": [
    "fscore = model.get_score(importance_type='total_gain')\n",
    "fscore = sorted([(k, v) for k, v in fscore.items()], key=lambda x: x[1], reverse=True)\n",
    "print('xgboost importance')\n",
    "print(fscore[:5])"
   ]
  },
  {
   "cell_type": "code",
   "execution_count": null,
   "metadata": {},
   "outputs": [],
   "source": []
  }
 ],
 "metadata": {
  "kernelspec": {
   "display_name": "Python 3",
   "language": "python",
   "name": "python3"
  },
  "language_info": {
   "codemirror_mode": {
    "name": "ipython",
    "version": 3
   },
   "file_extension": ".py",
   "mimetype": "text/x-python",
   "name": "python",
   "nbconvert_exporter": "python",
   "pygments_lexer": "ipython3",
   "version": "3.7.3"
  }
 },
 "nbformat": 4,
 "nbformat_minor": 2
}
