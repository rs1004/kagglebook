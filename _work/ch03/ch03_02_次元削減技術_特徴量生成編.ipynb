{
 "cells": [
  {
   "cell_type": "code",
   "execution_count": 1,
   "metadata": {},
   "outputs": [],
   "source": [
    "import numpy as np\n",
    "import pandas as pd\n",
    "from IPython.display import Markdown, display"
   ]
  },
  {
   "cell_type": "code",
   "execution_count": 2,
   "metadata": {},
   "outputs": [],
   "source": [
    "%load_ext memory_profiler"
   ]
  },
  {
   "cell_type": "code",
   "execution_count": 3,
   "metadata": {},
   "outputs": [],
   "source": [
    "# train_xは学習データ、train_yは目的変数、test_xはテストデータ\n",
    "# pandasのDataFrame, Seriesで保持します。（numpyのarrayで保持することもあります）\n",
    "\n",
    "train = pd.read_csv('../../input/sample-data/train_preprocessed_onehot.csv')\n",
    "train_x = train.drop(['target'], axis=1)\n",
    "train_y = train['target']\n",
    "test_x = pd.read_csv('../../input/sample-data/test_preprocessed_onehot.csv')\n",
    "\n",
    "# 説明用に学習データとテストデータの元の状態を保存しておく\n",
    "train_x_saved = train_x.copy()\n",
    "test_x_saved = test_x.copy()"
   ]
  },
  {
   "cell_type": "code",
   "execution_count": 4,
   "metadata": {},
   "outputs": [],
   "source": [
    "from sklearn.preprocessing import StandardScaler, MinMaxScaler"
   ]
  },
  {
   "cell_type": "code",
   "execution_count": 5,
   "metadata": {},
   "outputs": [],
   "source": [
    "# 標準化を行った学習データとテストデータを返す関数\n",
    "def load_standarized_data():\n",
    "    train_x, test_x = train_x_saved.copy(), test_x_saved.copy()\n",
    "\n",
    "    scaler = StandardScaler()\n",
    "    scaler.fit(train_x)\n",
    "    train_x = scaler.transform(train_x)\n",
    "    test_x = scaler.transform(test_x)\n",
    "    return pd.DataFrame(train_x), pd.DataFrame(test_x)\n",
    "\n",
    "\n",
    "# MinMaxスケーリングを行った学習データとテストデータを返す関数\n",
    "def load_minmax_scaled_data():\n",
    "    train_x, test_x = train_x_saved.copy(), test_x_saved.copy()\n",
    "\n",
    "    # Min-Max Scalingを行う\n",
    "    scaler = MinMaxScaler()\n",
    "    scaler.fit(pd.concat([train_x, test_x], axis=0))\n",
    "    train_x = scaler.transform(train_x)\n",
    "    test_x = scaler.transform(test_x)\n",
    "\n",
    "    return pd.DataFrame(train_x), pd.DataFrame(test_x)"
   ]
  },
  {
   "cell_type": "code",
   "execution_count": 6,
   "metadata": {},
   "outputs": [
    {
     "data": {
      "text/html": [
       "<div>\n",
       "<style scoped>\n",
       "    .dataframe tbody tr th:only-of-type {\n",
       "        vertical-align: middle;\n",
       "    }\n",
       "\n",
       "    .dataframe tbody tr th {\n",
       "        vertical-align: top;\n",
       "    }\n",
       "\n",
       "    .dataframe thead th {\n",
       "        text-align: right;\n",
       "    }\n",
       "</style>\n",
       "<table border=\"1\" class=\"dataframe\">\n",
       "  <thead>\n",
       "    <tr style=\"text-align: right;\">\n",
       "      <th></th>\n",
       "      <th>0</th>\n",
       "      <th>1</th>\n",
       "      <th>2</th>\n",
       "      <th>3</th>\n",
       "      <th>4</th>\n",
       "      <th>5</th>\n",
       "      <th>6</th>\n",
       "      <th>7</th>\n",
       "      <th>8</th>\n",
       "      <th>9</th>\n",
       "      <th>...</th>\n",
       "      <th>49</th>\n",
       "      <th>50</th>\n",
       "      <th>51</th>\n",
       "      <th>52</th>\n",
       "      <th>53</th>\n",
       "      <th>54</th>\n",
       "      <th>55</th>\n",
       "      <th>56</th>\n",
       "      <th>57</th>\n",
       "      <th>58</th>\n",
       "    </tr>\n",
       "  </thead>\n",
       "  <tbody>\n",
       "    <tr>\n",
       "      <th>0</th>\n",
       "      <td>0.367868</td>\n",
       "      <td>0.812590</td>\n",
       "      <td>0.058742</td>\n",
       "      <td>0.388110</td>\n",
       "      <td>-0.496404</td>\n",
       "      <td>-0.335182</td>\n",
       "      <td>-0.500312</td>\n",
       "      <td>-0.202792</td>\n",
       "      <td>-0.143584</td>\n",
       "      <td>-0.20492</td>\n",
       "      <td>...</td>\n",
       "      <td>-0.330921</td>\n",
       "      <td>0.501562</td>\n",
       "      <td>-0.660895</td>\n",
       "      <td>-0.230621</td>\n",
       "      <td>-1.009848</td>\n",
       "      <td>-1.296420</td>\n",
       "      <td>-1.449062</td>\n",
       "      <td>-1.526426</td>\n",
       "      <td>-0.649981</td>\n",
       "      <td>0.499687</td>\n",
       "    </tr>\n",
       "    <tr>\n",
       "      <th>1</th>\n",
       "      <td>1.198320</td>\n",
       "      <td>-1.230633</td>\n",
       "      <td>-0.165636</td>\n",
       "      <td>-0.402399</td>\n",
       "      <td>2.014490</td>\n",
       "      <td>-0.335182</td>\n",
       "      <td>-0.500312</td>\n",
       "      <td>-0.202792</td>\n",
       "      <td>-0.143584</td>\n",
       "      <td>-0.20492</td>\n",
       "      <td>...</td>\n",
       "      <td>3.021872</td>\n",
       "      <td>0.501562</td>\n",
       "      <td>-0.660895</td>\n",
       "      <td>-0.230621</td>\n",
       "      <td>-1.009848</td>\n",
       "      <td>-0.433942</td>\n",
       "      <td>-0.766514</td>\n",
       "      <td>-1.093119</td>\n",
       "      <td>1.538507</td>\n",
       "      <td>0.499687</td>\n",
       "    </tr>\n",
       "    <tr>\n",
       "      <th>2</th>\n",
       "      <td>1.613547</td>\n",
       "      <td>0.812590</td>\n",
       "      <td>0.166873</td>\n",
       "      <td>-0.617178</td>\n",
       "      <td>-0.496404</td>\n",
       "      <td>-0.335182</td>\n",
       "      <td>1.998751</td>\n",
       "      <td>-0.202792</td>\n",
       "      <td>-0.143584</td>\n",
       "      <td>-0.20492</td>\n",
       "      <td>...</td>\n",
       "      <td>-0.330921</td>\n",
       "      <td>0.501562</td>\n",
       "      <td>-0.660895</td>\n",
       "      <td>-0.230621</td>\n",
       "      <td>0.990248</td>\n",
       "      <td>-1.296420</td>\n",
       "      <td>-0.311481</td>\n",
       "      <td>0.206803</td>\n",
       "      <td>-0.649981</td>\n",
       "      <td>0.499687</td>\n",
       "    </tr>\n",
       "    <tr>\n",
       "      <th>3</th>\n",
       "      <td>-1.154629</td>\n",
       "      <td>0.812590</td>\n",
       "      <td>1.190962</td>\n",
       "      <td>0.960153</td>\n",
       "      <td>-0.496404</td>\n",
       "      <td>-0.335182</td>\n",
       "      <td>-0.500312</td>\n",
       "      <td>4.931172</td>\n",
       "      <td>-0.143584</td>\n",
       "      <td>-0.20492</td>\n",
       "      <td>...</td>\n",
       "      <td>-0.330921</td>\n",
       "      <td>0.501562</td>\n",
       "      <td>-0.660895</td>\n",
       "      <td>-0.230621</td>\n",
       "      <td>-1.009848</td>\n",
       "      <td>0.141044</td>\n",
       "      <td>-1.107788</td>\n",
       "      <td>-0.804247</td>\n",
       "      <td>-0.649981</td>\n",
       "      <td>-2.001251</td>\n",
       "    </tr>\n",
       "    <tr>\n",
       "      <th>4</th>\n",
       "      <td>0.921503</td>\n",
       "      <td>-1.230633</td>\n",
       "      <td>-0.821325</td>\n",
       "      <td>0.409007</td>\n",
       "      <td>-0.496404</td>\n",
       "      <td>2.983453</td>\n",
       "      <td>-0.500312</td>\n",
       "      <td>-0.202792</td>\n",
       "      <td>-0.143584</td>\n",
       "      <td>-0.20492</td>\n",
       "      <td>...</td>\n",
       "      <td>3.021872</td>\n",
       "      <td>0.501562</td>\n",
       "      <td>1.513101</td>\n",
       "      <td>-0.230621</td>\n",
       "      <td>0.990248</td>\n",
       "      <td>0.716029</td>\n",
       "      <td>0.143551</td>\n",
       "      <td>1.217854</td>\n",
       "      <td>-0.649981</td>\n",
       "      <td>0.499687</td>\n",
       "    </tr>\n",
       "  </tbody>\n",
       "</table>\n",
       "<p>5 rows × 59 columns</p>\n",
       "</div>"
      ],
      "text/plain": [
       "         0         1         2         3         4         5         6   \\\n",
       "0  0.367868  0.812590  0.058742  0.388110 -0.496404 -0.335182 -0.500312   \n",
       "1  1.198320 -1.230633 -0.165636 -0.402399  2.014490 -0.335182 -0.500312   \n",
       "2  1.613547  0.812590  0.166873 -0.617178 -0.496404 -0.335182  1.998751   \n",
       "3 -1.154629  0.812590  1.190962  0.960153 -0.496404 -0.335182 -0.500312   \n",
       "4  0.921503 -1.230633 -0.821325  0.409007 -0.496404  2.983453 -0.500312   \n",
       "\n",
       "         7         8        9   ...        49        50        51        52  \\\n",
       "0 -0.202792 -0.143584 -0.20492  ... -0.330921  0.501562 -0.660895 -0.230621   \n",
       "1 -0.202792 -0.143584 -0.20492  ...  3.021872  0.501562 -0.660895 -0.230621   \n",
       "2 -0.202792 -0.143584 -0.20492  ... -0.330921  0.501562 -0.660895 -0.230621   \n",
       "3  4.931172 -0.143584 -0.20492  ... -0.330921  0.501562 -0.660895 -0.230621   \n",
       "4 -0.202792 -0.143584 -0.20492  ...  3.021872  0.501562  1.513101 -0.230621   \n",
       "\n",
       "         53        54        55        56        57        58  \n",
       "0 -1.009848 -1.296420 -1.449062 -1.526426 -0.649981  0.499687  \n",
       "1 -1.009848 -0.433942 -0.766514 -1.093119  1.538507  0.499687  \n",
       "2  0.990248 -1.296420 -0.311481  0.206803 -0.649981  0.499687  \n",
       "3 -1.009848  0.141044 -1.107788 -0.804247 -0.649981 -2.001251  \n",
       "4  0.990248  0.716029  0.143551  1.217854 -0.649981  0.499687  \n",
       "\n",
       "[5 rows x 59 columns]"
      ]
     },
     "execution_count": 6,
     "metadata": {},
     "output_type": "execute_result"
    }
   ],
   "source": [
    "train_x, test_x = load_standarized_data()\n",
    "train_x.head()"
   ]
  },
  {
   "cell_type": "code",
   "execution_count": 7,
   "metadata": {},
   "outputs": [
    {
     "data": {
      "text/html": [
       "<div>\n",
       "<style scoped>\n",
       "    .dataframe tbody tr th:only-of-type {\n",
       "        vertical-align: middle;\n",
       "    }\n",
       "\n",
       "    .dataframe tbody tr th {\n",
       "        vertical-align: top;\n",
       "    }\n",
       "\n",
       "    .dataframe thead th {\n",
       "        text-align: right;\n",
       "    }\n",
       "</style>\n",
       "<table border=\"1\" class=\"dataframe\">\n",
       "  <thead>\n",
       "    <tr style=\"text-align: right;\">\n",
       "      <th></th>\n",
       "      <th>0</th>\n",
       "      <th>1</th>\n",
       "      <th>2</th>\n",
       "      <th>3</th>\n",
       "      <th>4</th>\n",
       "      <th>5</th>\n",
       "      <th>6</th>\n",
       "      <th>7</th>\n",
       "      <th>8</th>\n",
       "      <th>9</th>\n",
       "      <th>...</th>\n",
       "      <th>49</th>\n",
       "      <th>50</th>\n",
       "      <th>51</th>\n",
       "      <th>52</th>\n",
       "      <th>53</th>\n",
       "      <th>54</th>\n",
       "      <th>55</th>\n",
       "      <th>56</th>\n",
       "      <th>57</th>\n",
       "      <th>58</th>\n",
       "    </tr>\n",
       "  </thead>\n",
       "  <tbody>\n",
       "    <tr>\n",
       "      <th>0</th>\n",
       "      <td>0.608108</td>\n",
       "      <td>1.0</td>\n",
       "      <td>0.517477</td>\n",
       "      <td>0.430295</td>\n",
       "      <td>0.0</td>\n",
       "      <td>0.0</td>\n",
       "      <td>0.0</td>\n",
       "      <td>0.0</td>\n",
       "      <td>0.0</td>\n",
       "      <td>0.0</td>\n",
       "      <td>...</td>\n",
       "      <td>0.0</td>\n",
       "      <td>1.0</td>\n",
       "      <td>0.0</td>\n",
       "      <td>0.0</td>\n",
       "      <td>0.0</td>\n",
       "      <td>0.090909</td>\n",
       "      <td>0.066667</td>\n",
       "      <td>0.043478</td>\n",
       "      <td>0.0</td>\n",
       "      <td>1.0</td>\n",
       "    </tr>\n",
       "    <tr>\n",
       "      <th>1</th>\n",
       "      <td>0.851351</td>\n",
       "      <td>0.0</td>\n",
       "      <td>0.487401</td>\n",
       "      <td>0.331590</td>\n",
       "      <td>1.0</td>\n",
       "      <td>0.0</td>\n",
       "      <td>0.0</td>\n",
       "      <td>0.0</td>\n",
       "      <td>0.0</td>\n",
       "      <td>0.0</td>\n",
       "      <td>...</td>\n",
       "      <td>1.0</td>\n",
       "      <td>1.0</td>\n",
       "      <td>0.0</td>\n",
       "      <td>0.0</td>\n",
       "      <td>0.0</td>\n",
       "      <td>0.363636</td>\n",
       "      <td>0.266667</td>\n",
       "      <td>0.173913</td>\n",
       "      <td>1.0</td>\n",
       "      <td>1.0</td>\n",
       "    </tr>\n",
       "    <tr>\n",
       "      <th>2</th>\n",
       "      <td>0.972973</td>\n",
       "      <td>1.0</td>\n",
       "      <td>0.531971</td>\n",
       "      <td>0.304772</td>\n",
       "      <td>0.0</td>\n",
       "      <td>0.0</td>\n",
       "      <td>1.0</td>\n",
       "      <td>0.0</td>\n",
       "      <td>0.0</td>\n",
       "      <td>0.0</td>\n",
       "      <td>...</td>\n",
       "      <td>0.0</td>\n",
       "      <td>1.0</td>\n",
       "      <td>0.0</td>\n",
       "      <td>0.0</td>\n",
       "      <td>1.0</td>\n",
       "      <td>0.090909</td>\n",
       "      <td>0.400000</td>\n",
       "      <td>0.565217</td>\n",
       "      <td>0.0</td>\n",
       "      <td>1.0</td>\n",
       "    </tr>\n",
       "    <tr>\n",
       "      <th>3</th>\n",
       "      <td>0.162162</td>\n",
       "      <td>1.0</td>\n",
       "      <td>0.669243</td>\n",
       "      <td>0.501723</td>\n",
       "      <td>0.0</td>\n",
       "      <td>0.0</td>\n",
       "      <td>0.0</td>\n",
       "      <td>1.0</td>\n",
       "      <td>0.0</td>\n",
       "      <td>0.0</td>\n",
       "      <td>...</td>\n",
       "      <td>0.0</td>\n",
       "      <td>1.0</td>\n",
       "      <td>0.0</td>\n",
       "      <td>0.0</td>\n",
       "      <td>0.0</td>\n",
       "      <td>0.545455</td>\n",
       "      <td>0.166667</td>\n",
       "      <td>0.260870</td>\n",
       "      <td>0.0</td>\n",
       "      <td>0.0</td>\n",
       "    </tr>\n",
       "    <tr>\n",
       "      <th>4</th>\n",
       "      <td>0.770270</td>\n",
       "      <td>0.0</td>\n",
       "      <td>0.399511</td>\n",
       "      <td>0.432905</td>\n",
       "      <td>0.0</td>\n",
       "      <td>1.0</td>\n",
       "      <td>0.0</td>\n",
       "      <td>0.0</td>\n",
       "      <td>0.0</td>\n",
       "      <td>0.0</td>\n",
       "      <td>...</td>\n",
       "      <td>1.0</td>\n",
       "      <td>1.0</td>\n",
       "      <td>1.0</td>\n",
       "      <td>0.0</td>\n",
       "      <td>1.0</td>\n",
       "      <td>0.727273</td>\n",
       "      <td>0.533333</td>\n",
       "      <td>0.869565</td>\n",
       "      <td>0.0</td>\n",
       "      <td>1.0</td>\n",
       "    </tr>\n",
       "  </tbody>\n",
       "</table>\n",
       "<p>5 rows × 59 columns</p>\n",
       "</div>"
      ],
      "text/plain": [
       "         0    1         2         3    4    5    6    7    8    9   ...   49  \\\n",
       "0  0.608108  1.0  0.517477  0.430295  0.0  0.0  0.0  0.0  0.0  0.0  ...  0.0   \n",
       "1  0.851351  0.0  0.487401  0.331590  1.0  0.0  0.0  0.0  0.0  0.0  ...  1.0   \n",
       "2  0.972973  1.0  0.531971  0.304772  0.0  0.0  1.0  0.0  0.0  0.0  ...  0.0   \n",
       "3  0.162162  1.0  0.669243  0.501723  0.0  0.0  0.0  1.0  0.0  0.0  ...  0.0   \n",
       "4  0.770270  0.0  0.399511  0.432905  0.0  1.0  0.0  0.0  0.0  0.0  ...  1.0   \n",
       "\n",
       "    50   51   52   53        54        55        56   57   58  \n",
       "0  1.0  0.0  0.0  0.0  0.090909  0.066667  0.043478  0.0  1.0  \n",
       "1  1.0  0.0  0.0  0.0  0.363636  0.266667  0.173913  1.0  1.0  \n",
       "2  1.0  0.0  0.0  1.0  0.090909  0.400000  0.565217  0.0  1.0  \n",
       "3  1.0  0.0  0.0  0.0  0.545455  0.166667  0.260870  0.0  0.0  \n",
       "4  1.0  1.0  0.0  1.0  0.727273  0.533333  0.869565  0.0  1.0  \n",
       "\n",
       "[5 rows x 59 columns]"
      ]
     },
     "execution_count": 7,
     "metadata": {},
     "output_type": "execute_result"
    }
   ],
   "source": [
    "train_x, test_x = load_minmax_scaled_data()\n",
    "train_x.head()"
   ]
  },
  {
   "cell_type": "markdown",
   "metadata": {},
   "source": [
    "## 学習・評価\n",
    "- 次元圧縮前後での性能の変化を見るために、簡易的な学習・評価用の関数を作成する"
   ]
  },
  {
   "cell_type": "code",
   "execution_count": 8,
   "metadata": {},
   "outputs": [],
   "source": [
    "from xgboost import XGBClassifier\n",
    "from sklearn.model_selection import StratifiedKFold\n",
    "from sklearn.metrics import accuracy_score"
   ]
  },
  {
   "cell_type": "code",
   "execution_count": 9,
   "metadata": {},
   "outputs": [],
   "source": [
    "def train_and_eval(train_x, train_y):\n",
    "    skf = StratifiedKFold(n_splits=4, shuffle=True, random_state=0)\n",
    "    accs = []\n",
    "    for tr_idx, va_idx in skf.split(train_x, train_y):\n",
    "        tr_x, va_x = train_x.iloc[tr_idx], train_x.iloc[va_idx]\n",
    "        tr_y, va_y = train_y.iloc[tr_idx], train_y.iloc[va_idx]\n",
    "        model = XGBClassifier(n_estimators=20, random_state=0)\n",
    "        model.fit(tr_x, tr_y)\n",
    "        pred = model.predict(va_x)\n",
    "        accs.append(accuracy_score(va_y, pred))\n",
    "    return np.mean(accs)"
   ]
  },
  {
   "cell_type": "markdown",
   "metadata": {},
   "source": [
    "## PCA\n",
    "- 主成分分析\n",
    "- **各特徴量が正規分布に従っていると仮定して使用**"
   ]
  },
  {
   "cell_type": "code",
   "execution_count": 10,
   "metadata": {},
   "outputs": [],
   "source": [
    "from sklearn.decomposition import PCA"
   ]
  },
  {
   "cell_type": "code",
   "execution_count": 11,
   "metadata": {},
   "outputs": [
    {
     "data": {
      "text/markdown": [
       "##### 圧縮前"
      ],
      "text/plain": [
       "<IPython.core.display.Markdown object>"
      ]
     },
     "metadata": {},
     "output_type": "display_data"
    },
    {
     "name": "stdout",
     "output_type": "stream",
     "text": [
      "num col:  59\n",
      "acc:  0.842999987295998\n"
     ]
    }
   ],
   "source": [
    "train_x, test_x = load_standarized_data()\n",
    "\n",
    "display(Markdown('##### 圧縮前'))\n",
    "print('num col: ', len(train_x.columns))\n",
    "print('acc: ', train_and_eval(train_x, train_y))"
   ]
  },
  {
   "cell_type": "code",
   "execution_count": 12,
   "metadata": {},
   "outputs": [
    {
     "data": {
      "text/markdown": [
       "##### 圧縮後"
      ],
      "text/plain": [
       "<IPython.core.display.Markdown object>"
      ]
     },
     "metadata": {},
     "output_type": "display_data"
    },
    {
     "name": "stdout",
     "output_type": "stream",
     "text": [
      "num col:  5\n",
      "acc:  0.807500024592004\n",
      "peak memory: 366.08 MiB, increment: 4.48 MiB\n",
      "CPU times: user 306 ms, sys: 47.5 ms, total: 354 ms\n",
      "Wall time: 595 ms\n"
     ]
    }
   ],
   "source": [
    "%%time\n",
    "%%memit\n",
    "pca = PCA(n_components=5)\n",
    "pca.fit(train_x)\n",
    "\n",
    "# 変換の適用\n",
    "train_x = pd.DataFrame(pca.transform(train_x))\n",
    "test_x = pd.DataFrame(pca.transform(test_x))\n",
    "\n",
    "display(Markdown('##### 圧縮後'))\n",
    "print('num col: ', train_x.shape[1])\n",
    "print('acc: ', train_and_eval(train_x, train_y))"
   ]
  },
  {
   "cell_type": "markdown",
   "metadata": {},
   "source": [
    "⇒ 列数が大幅に減少したが、精度はそこまで落ちていない"
   ]
  },
  {
   "cell_type": "markdown",
   "metadata": {},
   "source": [
    "## SVD（singular value decomposition）\n",
    "- 特異値分解\n",
    "- PCAとほぼ同じ。疎行列を扱える（＝メモリ効率の良い）SVDのほうがよく使われる"
   ]
  },
  {
   "cell_type": "code",
   "execution_count": 13,
   "metadata": {},
   "outputs": [],
   "source": [
    "from sklearn.decomposition import TruncatedSVD"
   ]
  },
  {
   "cell_type": "code",
   "execution_count": 14,
   "metadata": {},
   "outputs": [
    {
     "data": {
      "text/markdown": [
       "##### 圧縮前"
      ],
      "text/plain": [
       "<IPython.core.display.Markdown object>"
      ]
     },
     "metadata": {},
     "output_type": "display_data"
    },
    {
     "name": "stdout",
     "output_type": "stream",
     "text": [
      "num col:  59\n",
      "acc:  0.842999987295998\n"
     ]
    }
   ],
   "source": [
    "train_x, test_x = load_standarized_data()\n",
    "\n",
    "display(Markdown('##### 圧縮前'))\n",
    "print('num col: ', len(train_x.columns))\n",
    "print('acc: ', train_and_eval(train_x, train_y))"
   ]
  },
  {
   "cell_type": "code",
   "execution_count": 15,
   "metadata": {},
   "outputs": [
    {
     "data": {
      "text/markdown": [
       "##### 圧縮後"
      ],
      "text/plain": [
       "<IPython.core.display.Markdown object>"
      ]
     },
     "metadata": {},
     "output_type": "display_data"
    },
    {
     "name": "stdout",
     "output_type": "stream",
     "text": [
      "num col:  5\n",
      "acc:  0.8075001045920167\n",
      "peak memory: 362.52 MiB, increment: 0.01 MiB\n",
      "CPU times: user 262 ms, sys: 36.4 ms, total: 299 ms\n",
      "Wall time: 403 ms\n"
     ]
    }
   ],
   "source": [
    "%%time\n",
    "%%memit\n",
    "svd = TruncatedSVD(n_components=5)\n",
    "svd.fit(train_x)\n",
    "\n",
    "# 変換の適用\n",
    "train_x = pd.DataFrame(svd.transform(train_x))\n",
    "test_x = pd.DataFrame(svd.transform(test_x))\n",
    "\n",
    "display(Markdown('##### 圧縮後'))\n",
    "print('num col: ', train_x.shape[1])\n",
    "print('acc: ', train_and_eval(train_x, train_y))"
   ]
  },
  {
   "cell_type": "markdown",
   "metadata": {},
   "source": [
    "⇒ 確かにほぼPCAと同じ。例が悪いのか時間もメモリ効率も変わらなかった。"
   ]
  },
  {
   "cell_type": "markdown",
   "metadata": {},
   "source": [
    "## NMF（non-negative matrix factorization）\n",
    "- 非負値行列因子分解\n",
    "- 全ての特徴量は非負である必要がある。"
   ]
  },
  {
   "cell_type": "code",
   "execution_count": 16,
   "metadata": {},
   "outputs": [],
   "source": [
    "from sklearn.decomposition import NMF"
   ]
  },
  {
   "cell_type": "code",
   "execution_count": 17,
   "metadata": {},
   "outputs": [
    {
     "data": {
      "text/markdown": [
       "##### 圧縮前"
      ],
      "text/plain": [
       "<IPython.core.display.Markdown object>"
      ]
     },
     "metadata": {},
     "output_type": "display_data"
    },
    {
     "name": "stdout",
     "output_type": "stream",
     "text": [
      "num col:  59\n",
      "acc:  0.842999987295998\n"
     ]
    }
   ],
   "source": [
    "train_x, test_x = load_minmax_scaled_data()\n",
    "\n",
    "display(Markdown('##### 圧縮前'))\n",
    "print('num col: ', len(train_x.columns))\n",
    "print('acc: ', train_and_eval(train_x, train_y))"
   ]
  },
  {
   "cell_type": "code",
   "execution_count": 18,
   "metadata": {},
   "outputs": [
    {
     "data": {
      "text/markdown": [
       "##### 圧縮後"
      ],
      "text/plain": [
       "<IPython.core.display.Markdown object>"
      ]
     },
     "metadata": {},
     "output_type": "display_data"
    },
    {
     "name": "stdout",
     "output_type": "stream",
     "text": [
      "num col:  5\n",
      "acc:  0.8077000246240039\n",
      "peak memory: 375.61 MiB, increment: 0.16 MiB\n",
      "CPU times: user 372 ms, sys: 24.2 ms, total: 396 ms\n",
      "Wall time: 500 ms\n"
     ]
    }
   ],
   "source": [
    "%%time\n",
    "%%memit\n",
    "nmf = NMF(n_components=5, init='random', random_state=0)\n",
    "nmf.fit(train_x)\n",
    "\n",
    "# 変換の適用\n",
    "train_x = pd.DataFrame(nmf.transform(train_x))\n",
    "test_x = pd.DataFrame(nmf.transform(test_x))\n",
    "\n",
    "display(Markdown('##### 圧縮後'))\n",
    "print('num col: ', train_x.shape[1])\n",
    "print('acc: ', train_and_eval(train_x, train_y))"
   ]
  },
  {
   "cell_type": "code",
   "execution_count": 19,
   "metadata": {},
   "outputs": [
    {
     "data": {
      "text/plain": [
       "(5, 59)"
      ]
     },
     "execution_count": 19,
     "metadata": {},
     "output_type": "execute_result"
    }
   ],
   "source": [
    "nmf.components_.shape"
   ]
  },
  {
   "cell_type": "markdown",
   "metadata": {},
   "source": [
    "⇒ 5個の非負行列の和に分解された。"
   ]
  },
  {
   "cell_type": "markdown",
   "metadata": {},
   "source": [
    "## LDA（Latent Dirichlet Allocation）\n",
    "- 潜在的ディリクレ配分法\n",
    "- 文章を分類するトピックモデルに使用される"
   ]
  },
  {
   "cell_type": "code",
   "execution_count": 20,
   "metadata": {},
   "outputs": [],
   "source": [
    "from sklearn.decomposition import LatentDirichletAllocation"
   ]
  },
  {
   "cell_type": "code",
   "execution_count": 21,
   "metadata": {},
   "outputs": [
    {
     "data": {
      "text/markdown": [
       "##### 圧縮前"
      ],
      "text/plain": [
       "<IPython.core.display.Markdown object>"
      ]
     },
     "metadata": {},
     "output_type": "display_data"
    },
    {
     "name": "stdout",
     "output_type": "stream",
     "text": [
      "num col:  59\n",
      "acc:  0.842999987295998\n"
     ]
    }
   ],
   "source": [
    "# カウント行列ではないが、非負の値であれば計算は可能\n",
    "train_x, test_x = load_minmax_scaled_data()\n",
    "\n",
    "display(Markdown('##### 圧縮前'))\n",
    "print('num col: ', len(train_x.columns))\n",
    "print('acc: ', train_and_eval(train_x, train_y))"
   ]
  },
  {
   "cell_type": "code",
   "execution_count": 22,
   "metadata": {},
   "outputs": [
    {
     "data": {
      "text/markdown": [
       "##### 圧縮後"
      ],
      "text/plain": [
       "<IPython.core.display.Markdown object>"
      ]
     },
     "metadata": {},
     "output_type": "display_data"
    },
    {
     "name": "stdout",
     "output_type": "stream",
     "text": [
      "num col:  5\n",
      "acc:  0.807600024624004\n",
      "peak memory: 384.98 MiB, increment: 0.44 MiB\n",
      "CPU times: user 33.9 s, sys: 43.3 ms, total: 33.9 s\n",
      "Wall time: 34.1 s\n"
     ]
    }
   ],
   "source": [
    "%%time\n",
    "%%memit\n",
    "lda = LatentDirichletAllocation(n_components=5, random_state=0)\n",
    "lda.fit(train_x)\n",
    "\n",
    "# 変換の適用\n",
    "train_x = pd.DataFrame(lda.transform(train_x))\n",
    "test_x = pd.DataFrame(lda.transform(test_x))\n",
    "\n",
    "display(Markdown('##### 圧縮後'))\n",
    "print('num col: ', train_x.shape[1])\n",
    "print('acc: ', train_and_eval(train_x, train_y))"
   ]
  },
  {
   "cell_type": "markdown",
   "metadata": {},
   "source": [
    "⇒ 処理時間結構遅め。"
   ]
  },
  {
   "cell_type": "markdown",
   "metadata": {},
   "source": [
    "## LDA（Linear Discriminant Analysis）\n",
    "- 線形判別分析\n",
    "- 分類タスクについて教師ありで次元削減を行う。"
   ]
  },
  {
   "cell_type": "code",
   "execution_count": 23,
   "metadata": {},
   "outputs": [],
   "source": [
    "from sklearn.discriminant_analysis import LinearDiscriminantAnalysis"
   ]
  },
  {
   "cell_type": "code",
   "execution_count": 24,
   "metadata": {},
   "outputs": [
    {
     "data": {
      "text/markdown": [
       "##### 圧縮前"
      ],
      "text/plain": [
       "<IPython.core.display.Markdown object>"
      ]
     },
     "metadata": {},
     "output_type": "display_data"
    },
    {
     "name": "stdout",
     "output_type": "stream",
     "text": [
      "num col:  59\n",
      "acc:  0.842999987295998\n"
     ]
    }
   ],
   "source": [
    "# 標準化されたデータを用いる\n",
    "train_x, test_x = load_standarized_data()\n",
    "\n",
    "display(Markdown('##### 圧縮前'))\n",
    "print('num col: ', len(train_x.columns))\n",
    "print('acc: ', train_and_eval(train_x, train_y))"
   ]
  },
  {
   "cell_type": "code",
   "execution_count": 25,
   "metadata": {},
   "outputs": [
    {
     "name": "stderr",
     "output_type": "stream",
     "text": [
      "/home/sato/anaconda3/lib/python3.7/site-packages/sklearn/discriminant_analysis.py:388: UserWarning: Variables are collinear.\n",
      "  warnings.warn(\"Variables are collinear.\")\n"
     ]
    },
    {
     "data": {
      "text/markdown": [
       "##### 圧縮後"
      ],
      "text/plain": [
       "<IPython.core.display.Markdown object>"
      ]
     },
     "metadata": {},
     "output_type": "display_data"
    },
    {
     "name": "stdout",
     "output_type": "stream",
     "text": [
      "num col:  1\n",
      "acc:  0.8563007087361135\n",
      "peak memory: 396.85 MiB, increment: 0.82 MiB\n",
      "CPU times: user 263 ms, sys: 52 ms, total: 315 ms\n",
      "Wall time: 494 ms\n"
     ]
    }
   ],
   "source": [
    "%%time\n",
    "%%memit\n",
    "lda = LinearDiscriminantAnalysis(n_components=1)\n",
    "lda.fit(train_x, train_y)\n",
    "\n",
    "# 変換の適用\n",
    "train_x = pd.DataFrame(lda.transform(train_x))\n",
    "test_x = pd.DataFrame(lda.transform(test_x))\n",
    "\n",
    "display(Markdown('##### 圧縮後'))\n",
    "print('num col: ', train_x.shape[1])\n",
    "print('acc: ', train_and_eval(train_x, train_y))"
   ]
  },
  {
   "cell_type": "markdown",
   "metadata": {},
   "source": [
    "⇒ 教師ありという点で上記の方法と異なる。適切な使い分けが必要。"
   ]
  },
  {
   "cell_type": "markdown",
   "metadata": {},
   "source": [
    "### t-SNE\n",
    "- 割と最近の手法\n",
    "- ２次元平面に圧縮し、可視化の目的で使われることが多い"
   ]
  },
  {
   "cell_type": "code",
   "execution_count": 26,
   "metadata": {},
   "outputs": [],
   "source": [
    "from sklearn.manifold import TSNE"
   ]
  },
  {
   "cell_type": "code",
   "execution_count": 27,
   "metadata": {},
   "outputs": [
    {
     "data": {
      "text/markdown": [
       "##### 圧縮前"
      ],
      "text/plain": [
       "<IPython.core.display.Markdown object>"
      ]
     },
     "metadata": {},
     "output_type": "display_data"
    },
    {
     "name": "stdout",
     "output_type": "stream",
     "text": [
      "num col:  59\n",
      "acc:  0.842999987295998\n"
     ]
    }
   ],
   "source": [
    "# 標準化されたデータを用いる\n",
    "train_x, test_x = load_standarized_data()\n",
    "\n",
    "display(Markdown('##### 圧縮前'))\n",
    "print('num col: ', len(train_x.columns))\n",
    "print('acc: ', train_and_eval(train_x, train_y))"
   ]
  },
  {
   "cell_type": "code",
   "execution_count": 28,
   "metadata": {},
   "outputs": [
    {
     "data": {
      "text/markdown": [
       "##### 圧縮後"
      ],
      "text/plain": [
       "<IPython.core.display.Markdown object>"
      ]
     },
     "metadata": {},
     "output_type": "display_data"
    },
    {
     "name": "stdout",
     "output_type": "stream",
     "text": [
      "num col:  2\n",
      "acc:  0.8073999846079976\n",
      "peak memory: 436.38 MiB, increment: 36.33 MiB\n",
      "CPU times: user 1min 18s, sys: 80 ms, total: 1min 18s\n",
      "Wall time: 1min 18s\n"
     ]
    }
   ],
   "source": [
    "%%time\n",
    "%%memit\n",
    "tsne = TSNE(n_components=2)\n",
    "\n",
    "# 変換の適用\n",
    "train_x = pd.DataFrame(tsne.fit_transform(train_x))\n",
    "\n",
    "display(Markdown('##### 圧縮後'))\n",
    "print('num col: ', train_x.shape[1])\n",
    "print('acc: ', train_and_eval(train_x, train_y))"
   ]
  },
  {
   "cell_type": "markdown",
   "metadata": {},
   "source": [
    "⇒ かなり遅い。しかし２次元への圧縮で上記の方法と同程度の精度。"
   ]
  },
  {
   "cell_type": "markdown",
   "metadata": {},
   "source": [
    "## UMAP\n",
    "- 2018年に提案された手法。t-SNEよりもこちらのほうが処理時間が早い。2, 3次元を超える圧縮も可能。"
   ]
  },
  {
   "cell_type": "code",
   "execution_count": 29,
   "metadata": {},
   "outputs": [],
   "source": [
    "import umap"
   ]
  },
  {
   "cell_type": "code",
   "execution_count": 30,
   "metadata": {},
   "outputs": [
    {
     "data": {
      "text/markdown": [
       "##### 圧縮前"
      ],
      "text/plain": [
       "<IPython.core.display.Markdown object>"
      ]
     },
     "metadata": {},
     "output_type": "display_data"
    },
    {
     "name": "stdout",
     "output_type": "stream",
     "text": [
      "num col:  59\n",
      "acc:  0.842999987295998\n"
     ]
    }
   ],
   "source": [
    "# 標準化されたデータを用いる\n",
    "train_x, test_x = load_standarized_data()\n",
    "\n",
    "display(Markdown('##### 圧縮前'))\n",
    "print('num col: ', len(train_x.columns))\n",
    "print('acc: ', train_and_eval(train_x, train_y))"
   ]
  },
  {
   "cell_type": "code",
   "execution_count": 31,
   "metadata": {},
   "outputs": [
    {
     "data": {
      "text/markdown": [
       "##### 圧縮後"
      ],
      "text/plain": [
       "<IPython.core.display.Markdown object>"
      ]
     },
     "metadata": {},
     "output_type": "display_data"
    },
    {
     "name": "stdout",
     "output_type": "stream",
     "text": [
      "num col:  2\n",
      "acc:  0.8185002656160426\n",
      "peak memory: 494.06 MiB, increment: 34.86 MiB\n",
      "CPU times: user 37.3 s, sys: 96.1 ms, total: 37.4 s\n",
      "Wall time: 35.6 s\n"
     ]
    }
   ],
   "source": [
    "%%time\n",
    "%%memit\n",
    "um = umap.UMAP()\n",
    "um.fit(train_x)\n",
    "\n",
    "# 変換の適用\n",
    "train_x = pd.DataFrame(um.transform(train_x))\n",
    "test_x = pd.DataFrame(um.transform(test_x))\n",
    "\n",
    "display(Markdown('##### 圧縮後'))\n",
    "print('num col: ', train_x.shape[1])\n",
    "print('acc: ', train_and_eval(train_x, train_y))"
   ]
  },
  {
   "cell_type": "markdown",
   "metadata": {},
   "source": [
    "⇒ t-SNE の半分ほどの処理時間。しかも精度も高そうである。"
   ]
  },
  {
   "cell_type": "markdown",
   "metadata": {},
   "source": [
    "## クラスタリング\n",
    "- 次元削減とは違う手法だが、クラスタ中心からの距離を特徴量にしていい結果が出ることもあるようである。"
   ]
  },
  {
   "cell_type": "code",
   "execution_count": 32,
   "metadata": {},
   "outputs": [],
   "source": [
    "from sklearn.cluster import MiniBatchKMeans"
   ]
  },
  {
   "cell_type": "code",
   "execution_count": 33,
   "metadata": {},
   "outputs": [
    {
     "data": {
      "text/markdown": [
       "##### 圧縮前"
      ],
      "text/plain": [
       "<IPython.core.display.Markdown object>"
      ]
     },
     "metadata": {},
     "output_type": "display_data"
    },
    {
     "name": "stdout",
     "output_type": "stream",
     "text": [
      "num col:  59\n",
      "acc:  0.842999987295998\n"
     ]
    }
   ],
   "source": [
    "# 標準化されたデータを用いる\n",
    "train_x, test_x = load_standarized_data()\n",
    "\n",
    "display(Markdown('##### 圧縮前'))\n",
    "print('num col: ', len(train_x.columns))\n",
    "print('acc: ', train_and_eval(train_x, train_y))"
   ]
  },
  {
   "cell_type": "code",
   "execution_count": 34,
   "metadata": {},
   "outputs": [
    {
     "data": {
      "text/markdown": [
       "##### 圧縮後"
      ],
      "text/plain": [
       "<IPython.core.display.Markdown object>"
      ]
     },
     "metadata": {},
     "output_type": "display_data"
    },
    {
     "name": "stdout",
     "output_type": "stream",
     "text": [
      "num col:  10\n",
      "acc:  0.8146999852159975\n",
      "peak memory: 498.22 MiB, increment: 0.17 MiB\n",
      "CPU times: user 468 ms, sys: 36 ms, total: 504 ms\n",
      "Wall time: 603 ms\n"
     ]
    }
   ],
   "source": [
    "%%time\n",
    "%%memit\n",
    "kmeans = MiniBatchKMeans(n_clusters=10, random_state=0)\n",
    "kmeans.fit(train_x)\n",
    "\n",
    "# 変換の適用\n",
    "train_x = pd.DataFrame(kmeans.transform(train_x))\n",
    "test_x = pd.DataFrame(kmeans.transform(test_x))\n",
    "\n",
    "display(Markdown('##### 圧縮後'))\n",
    "print('num col: ', train_x.shape[1])\n",
    "print('acc: ', train_and_eval(train_x, train_y))"
   ]
  },
  {
   "cell_type": "markdown",
   "metadata": {},
   "source": [
    "⇒ メソッドの返り値の意味に注意\n",
    "* kmeans.predict\n",
    "  * 各レコードの属するクラスタを出力\n",
    "* kmeans.transform\n",
    "  * 各レコードの各クラスタ中心からの距離を出力"
   ]
  },
  {
   "cell_type": "code",
   "execution_count": null,
   "metadata": {},
   "outputs": [],
   "source": []
  }
 ],
 "metadata": {
  "kernelspec": {
   "display_name": "Python 3",
   "language": "python",
   "name": "python3"
  },
  "language_info": {
   "codemirror_mode": {
    "name": "ipython",
    "version": 3
   },
   "file_extension": ".py",
   "mimetype": "text/x-python",
   "name": "python",
   "nbconvert_exporter": "python",
   "pygments_lexer": "ipython3",
   "version": "3.7.3"
  }
 },
 "nbformat": 4,
 "nbformat_minor": 2
}
